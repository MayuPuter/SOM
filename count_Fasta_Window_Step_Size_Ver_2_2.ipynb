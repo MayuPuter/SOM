{
 "cells": [
  {
   "cell_type": "markdown",
   "metadata": {},
   "source": [
    "# Count Fasta (Windows-Size, Step-Size)\n",
    "by _Ken-nosuke Wada_ and _Yoshiko Wada_\n",
    "\n",
    "`Ver 1.4`<br>\n",
    "2019-06-14<br>\n",
    "`Ver 2.0`<br>\n",
    "2020-11-15<br>\n",
    "`Ver 2.1`<br>\n",
    "2023-05-23"
   ]
  },
  {
   "cell_type": "markdown",
   "metadata": {},
   "source": [
    "## パラメータの設定"
   ]
  },
  {
   "cell_type": "code",
   "execution_count": 1,
   "metadata": {},
   "outputs": [],
   "source": [
    "dir_fasta     = \"fasta\"                          # Name of the directory containing the Fasta file\n",
    "ext_fasta     = [\".fasta\", \".fas\", \".fa\", \".f\"]  # Fasta file extension\n",
    "count_letters = ['A', 'C', 'G', 'T']             # List of characters to be included in the frequency count\n",
    "\n",
    "nuc_length    = 4       # Length of nucleotides to be frequency counted\n",
    "window_size   = 100000  # Length of segment to count frequency\n",
    "step_size     = 100000  # Step length when shifting segments and counting\n",
    "others_th     = 20      # Ignore segments with character content exceeding this value that are not included in the frequency count\n",
    "\n",
    "trim_rule     = \"AAAAAAAAAAA.*$\"  # Regular expression matching rules for removing Poly-A tails"
   ]
  },
  {
   "cell_type": "code",
   "execution_count": 2,
   "metadata": {},
   "outputs": [],
   "source": [
    "import os.path\n",
    "import glob\n",
    "import re\n",
    "from collections import defaultdict"
   ]
  },
  {
   "cell_type": "code",
   "execution_count": 3,
   "metadata": {},
   "outputs": [],
   "source": [
    "if not os.path.isdir(dir_fasta):\n",
    "    raise Exception(\"Fasta files should be included in the directory : \" + dir_fasta + \".\")"
   ]
  },
  {
   "cell_type": "code",
   "execution_count": 4,
   "metadata": {},
   "outputs": [
    {
     "name": "stdout",
     "output_type": "stream",
     "text": [
      "2023-05-23 23:14:12.984571\n"
     ]
    }
   ],
   "source": [
    "import datetime\n",
    "start_time = datetime.datetime.now()\n",
    "print(start_time)"
   ]
  },
  {
   "cell_type": "code",
   "execution_count": 5,
   "metadata": {},
   "outputs": [
    {
     "name": "stdout",
     "output_type": "stream",
     "text": [
      "fasta\\Hemi_chr3.fa\n",
      "fasta\\Lepi_chr1-4_22.fa\n",
      "fasta\\Odo_chr10.fa\n",
      "fasta\\Ortho_chr10.fa\n",
      "fasta\\Tri_chr5.fa\n"
     ]
    }
   ],
   "source": [
    "fasta_files = []\n",
    "filenames = os.path.join(dir_fasta, '*')\n",
    "\n",
    "for file in glob.glob(filenames):\n",
    "    root, ext = os.path.splitext(file)\n",
    "    if ext in ext_fasta:\n",
    "        fasta_files.append(file)\n",
    "        print(file)\n",
    "\n",
    "if len(fasta_files) == 0:\n",
    "    raise Exception(\"Not found Fasta files in the directory : \" + dir_fasta + \".\")"
   ]
  },
  {
   "cell_type": "code",
   "execution_count": 6,
   "metadata": {},
   "outputs": [],
   "source": [
    "class FastaData():\n",
    "    def __init__(self, filename):\n",
    "        self.filename = filename\n",
    "        self.name = os.path.basename(filename)\n",
    "        self.startDict = {}\n",
    "        self.dataDict = {}\n",
    "        self.compListDict = {}\n",
    "        self.patternListDict = {}\n",
    "        \n",
    "        self.readData()\n",
    "    \n",
    "    def readData(self):\n",
    "        with open(self.filename) as f:\n",
    "            lines = f.readlines()\n",
    "        \n",
    "        key = None\n",
    "        txt = ''\n",
    "        \n",
    "        for line in lines:\n",
    "            if line.startswith('>'):\n",
    "                if key != None:\n",
    "                    self.dataDict[key] = txt\n",
    "                key = line.rstrip('\\n')\n",
    "                txt = ''\n",
    "            else:\n",
    "                txt += line.rstrip('\\n')\n",
    "        \n",
    "        self.dataDict[key] = txt"
   ]
  },
  {
   "cell_type": "code",
   "execution_count": 7,
   "metadata": {
    "scrolled": false
   },
   "outputs": [
    {
     "name": "stdout",
     "output_type": "stream",
     "text": [
      "Hemi_chr3.fa\n",
      "1\n",
      ">CM037033.1 Schizaphis graminum isolate BZ-2018 chromosome 3, whole genome shotgun sequence\n",
      "------\n",
      "Lepi_chr1-4_22.fa\n",
      "5\n",
      ">LR990257.1 Aricia agestis genome assembly, chromosome: 1\n",
      ">LR990258.1 Aricia agestis genome assembly, chromosome: 2\n",
      ">LR990278.1 Aricia agestis genome assembly, chromosome: 22\n",
      ">LR990259.1 Aricia agestis genome assembly, chromosome: 3\n",
      ">LR990260.1 Aricia agestis genome assembly, chromosome: 4\n",
      "------\n",
      "Odo_chr10.fa\n",
      "1\n",
      ">OV121110.1 Ischnura elegans genome assembly, chromosome: 10\n",
      "------\n",
      "Ortho_chr10.fa\n",
      "1\n",
      ">CM038243.1 Schistocerca americana isolate TAMUIC-IGC-003095 chromosome 10, whole genome shotgun sequence\n",
      "------\n",
      "Tri_chr5.fa\n",
      "1\n",
      ">OU830596.1 Limnephilus lunatus genome assembly, chromosome: 5\n",
      "------\n"
     ]
    }
   ],
   "source": [
    "fasta_data_list = []\n",
    "debug_print = True\n",
    "\n",
    "for filename in fasta_files:\n",
    "    fasta_data = FastaData(filename)\n",
    "    fasta_data_list.append(fasta_data)\n",
    "    \n",
    "    if debug_print:\n",
    "        print(fasta_data.name)\n",
    "        print(len(fasta_data.dataDict))\n",
    "        for key, val in fasta_data.dataDict.items():\n",
    "            print(key)\n",
    "            #print(val)\n",
    "        print('------')"
   ]
  },
  {
   "cell_type": "code",
   "execution_count": 8,
   "metadata": {},
   "outputs": [],
   "source": [
    "def countPattern(sequence, nuc_length, debug=False):\n",
    "    sequence = sequence.upper()\n",
    "    patterns = defaultdict(int)\n",
    "    \n",
    "    for i in range(len(sequence) - nuc_length + 1):\n",
    "        substr = sequence[i:(i + nuc_length)]\n",
    "        \n",
    "        stopFlag = False\n",
    "        for s in substr:\n",
    "            if s not in count_letters:\n",
    "                stopFlag = True\n",
    "                break\n",
    "        if stopFlag:\n",
    "            continue\n",
    "        \n",
    "        if debug:\n",
    "            print(substr)\n",
    "        \n",
    "        patterns[substr] += 1\n",
    "    \n",
    "    return patterns"
   ]
  },
  {
   "cell_type": "code",
   "execution_count": 9,
   "metadata": {
    "scrolled": false
   },
   "outputs": [
    {
     "name": "stdout",
     "output_type": "stream",
     "text": [
      "Hemi_chr3.fa\n",
      ">CM037033.1 Schizaphis graminum isolate BZ-2018 chromosome 3, whole genome shotgun sequence\n",
      "\tTRIM: 104490323 -> 476\n",
      "Lepi_chr1-4_22.fa\n",
      ">LR990257.1 Aricia agestis genome assembly, chromosome: 1\n",
      "\tTRIM: 28198316 -> 8125\n",
      ">LR990258.1 Aricia agestis genome assembly, chromosome: 2\n",
      "\tTRIM: 24835252 -> 5977\n",
      ">LR990278.1 Aricia agestis genome assembly, chromosome: 22\n",
      "\tTRIM: 9090845 -> 2486\n",
      ">LR990259.1 Aricia agestis genome assembly, chromosome: 3\n",
      "\tTRIM: 24265812 -> 2727\n",
      ">LR990260.1 Aricia agestis genome assembly, chromosome: 4\n",
      "\tTRIM: 22860255 -> 1578\n",
      "Odo_chr10.fa\n",
      ">OV121110.1 Ischnura elegans genome assembly, chromosome: 10\n",
      "\tTRIM: 108619349 -> 40780\n",
      "Ortho_chr10.fa\n",
      ">CM038243.1 Schistocerca americana isolate TAMUIC-IGC-003095 chromosome 10, whole genome shotgun sequence\n",
      "\tTRIM: 203335778 -> 182423\n",
      "Tri_chr5.fa\n",
      ">OU830596.1 Limnephilus lunatus genome assembly, chromosome: 5\n",
      "\tTRIM: 104678855 -> 13199\n",
      "256 / 256\n"
     ]
    }
   ],
   "source": [
    "debug_print = False\n",
    "\n",
    "patterns_set = set()\n",
    "\n",
    "for fasta_data in fasta_data_list:\n",
    "    print(fasta_data.name)\n",
    "    \n",
    "    for seq_name in fasta_data.dataDict:\n",
    "        sequence = fasta_data.dataDict[seq_name]\n",
    "        print(seq_name)\n",
    "        \n",
    "        sequence = sequence.upper()\n",
    "        \n",
    "        trimed_seq = re.sub(trim_rule, \"\", sequence)\n",
    "        if len(trimed_seq) != len(sequence):\n",
    "            print(\"\\tTRIM: \" + str(len(sequence)) + \" -> \" + str(len(trimed_seq)))\n",
    "        \n",
    "        fasta_data.startDict[seq_name]= []\n",
    "        fasta_data.patternListDict[seq_name]= []\n",
    "        fasta_data.compListDict[seq_name] = []\n",
    "        \n",
    "        for start in range(0, len(sequence), step_size):\n",
    "            if start + window_size >= len(sequence):\n",
    "                break\n",
    "            \n",
    "            subsequence = sequence[start:(start + window_size)]\n",
    "            \n",
    "            counts = []\n",
    "            csum = 0\n",
    "            for x in count_letters:\n",
    "                num = subsequence.count(x)\n",
    "                csum += num\n",
    "                counts.append(num)\n",
    "            counts.append(len(subsequence) - csum)\n",
    "            \n",
    "            others_percent = 100.0 * counts[-1] / len(subsequence)\n",
    "            if others_percent > others_th:\n",
    "                print(\"#\" + str(start) + \"_\" + str(start + window_size - 1))\n",
    "                print(\"\\tOthers Percent : \", others_percent)\n",
    "                continue\n",
    "            \n",
    "            patterns = countPattern(subsequence, nuc_length)\n",
    "            \n",
    "            fasta_data.startDict[seq_name].append(start + 1)\n",
    "            fasta_data.patternListDict[seq_name].append(patterns)\n",
    "            fasta_data.compListDict[seq_name].append(counts)\n",
    "            \n",
    "            if debug_print:\n",
    "                print(len(patterns.keys()))\n",
    "        \n",
    "            patterns_set |= set(patterns.keys())\n",
    " \n",
    "    if debug_print:\n",
    "        print('------')\n",
    "\n",
    "patterns_set = sorted(patterns_set)\n",
    "nuc_pow = len(count_letters) ** nuc_length\n",
    "\n",
    "print(str(len(patterns_set)) + \" / \" + str(nuc_pow))"
   ]
  },
  {
   "cell_type": "code",
   "execution_count": 10,
   "metadata": {
    "scrolled": true
   },
   "outputs": [
    {
     "name": "stdout",
     "output_type": "stream",
     "text": [
      "fasta\\count_4_100000_100000\\Hemi_chr3.cnt\n",
      ">CM037033.1 Schizaphis graminum isolate BZ-2018 chromosome 3, whole genome shotgun sequence\n",
      "fasta\\count_4_100000_100000\\Lepi_chr1-4_22.cnt\n",
      ">LR990257.1 Aricia agestis genome assembly, chromosome: 1\n",
      ">LR990258.1 Aricia agestis genome assembly, chromosome: 2\n",
      ">LR990278.1 Aricia agestis genome assembly, chromosome: 22\n",
      ">LR990259.1 Aricia agestis genome assembly, chromosome: 3\n",
      ">LR990260.1 Aricia agestis genome assembly, chromosome: 4\n",
      "fasta\\count_4_100000_100000\\Odo_chr10.cnt\n",
      ">OV121110.1 Ischnura elegans genome assembly, chromosome: 10\n",
      "fasta\\count_4_100000_100000\\Ortho_chr10.cnt\n",
      ">CM038243.1 Schistocerca americana isolate TAMUIC-IGC-003095 chromosome 10, whole genome shotgun sequence\n",
      "fasta\\count_4_100000_100000\\Tri_chr5.cnt\n",
      ">OU830596.1 Limnephilus lunatus genome assembly, chromosome: 5\n"
     ]
    }
   ],
   "source": [
    "dirname = \"count_\" + str(nuc_length) + \"_\" + str(window_size) + \"_\" + str(step_size)\n",
    "dir_count = os.path.join(dir_fasta, dirname)\n",
    "if not os.path.isdir(dir_count):\n",
    "    os.mkdir(dir_count)\n",
    "\n",
    "fname = os.path.join(dir_count, \"labels.txt\")\n",
    "labels = \"\"\n",
    "with open(fname, \"w\", encoding=\"utf-8\") as f:\n",
    "    labels = \"\\t\".join(patterns_set)\n",
    "    f.write(labels)\n",
    "\n",
    "count_letters.append('-')\n",
    "\n",
    "for fasta_data in fasta_data_list:\n",
    "    fname = os.path.join(dir_count, os.path.splitext(fasta_data.name)[0] + \".cnt\")\n",
    "    print(fname)\n",
    "    \n",
    "    with open(fname, \"w\", encoding=\"utf-8\") as f:\n",
    "        head  = \"%NUCLEOTIDES\\t\" + str(nuc_length) + \"\\n\"\n",
    "        head += \"%WINDOWSIZE\\t\" + str(window_size) + \"\\n\"\n",
    "        head += \"%STEPSIZE\\t\" + str(step_size) + \"\\n\"\n",
    "        f.write(head)\n",
    "        \n",
    "        for seq_name, patternDict in fasta_data.patternListDict.items():\n",
    "            print(seq_name)\n",
    "            f.write(seq_name + \"\\n\")\n",
    "            \n",
    "            for segmentNo, segmentDict in enumerate(patternDict):\n",
    "                start = fasta_data.startDict[seq_name][segmentNo]\n",
    "                end   = start + window_size - 1\n",
    "                \n",
    "                compline = \"#\" + str(start) + \"_\" + str(end)\n",
    "                \n",
    "                counts = fasta_data.compListDict[seq_name][segmentNo]\n",
    "                                \n",
    "                for idx, count in enumerate(counts):\n",
    "                    compline += \"\\t\" + count_letters[idx] + \" : \" + str(count)\n",
    "                f.write(compline + \"\\n\")\n",
    "                \n",
    "                segmentKeys = segmentDict.keys()\n",
    "                \n",
    "                line = []\n",
    "                for pattern in patterns_set:\n",
    "                    count = 0\n",
    "                    if pattern in segmentKeys:\n",
    "                        count = segmentDict[pattern]\n",
    "                    line.append(count)\n",
    "                line = [str(x) for x in line]\n",
    "                line = \"\\t\".join(line)\n",
    "                \n",
    "                f.write(line + \"\\n\")"
   ]
  },
  {
   "cell_type": "code",
   "execution_count": 12,
   "metadata": {},
   "outputs": [
    {
     "name": "stdout",
     "output_type": "stream",
     "text": [
      "\n",
      "Start   Time  : 2023-05-23 23:14:12.984571\n",
      "End     Time  : 2023-05-23 23:52:12.465683\n",
      "Elapsed Time  : 0:37:59.481112\n",
      "\n"
     ]
    }
   ],
   "source": [
    "end_time = datetime.datetime.now()\n",
    "print(\"\\nStart   Time  : \" + str(start_time))\n",
    "print(  \"End     Time  : \" + str(end_time))\n",
    "print(  \"Elapsed Time  : \" + str(end_time - start_time) + \"\\n\")"
   ]
  }
 ],
 "metadata": {
  "kernelspec": {
   "display_name": "Python 3 (ipykernel)",
   "language": "python",
   "name": "python3"
  },
  "language_info": {
   "codemirror_mode": {
    "name": "ipython",
    "version": 3
   },
   "file_extension": ".py",
   "mimetype": "text/x-python",
   "name": "python",
   "nbconvert_exporter": "python",
   "pygments_lexer": "ipython3",
   "version": "3.10.9"
  }
 },
 "nbformat": 4,
 "nbformat_minor": 2
}
