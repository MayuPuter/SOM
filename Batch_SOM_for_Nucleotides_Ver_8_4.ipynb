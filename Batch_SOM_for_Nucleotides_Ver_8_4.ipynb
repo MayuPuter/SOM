{
 "cells": [
  {
   "cell_type": "markdown",
   "metadata": {},
   "source": [
    "# Batch SOM for Nucleotides\n",
    "by _Ken-nosuke Wada_ and _Yoshiko Wada_\n",
    "\n",
    "`Ver.8.4`"
   ]
  },
  {
   "cell_type": "markdown",
   "metadata": {},
   "source": [
    "## Environment Construction\n",
    "\n",
    "1. Install **Anaconda for Python 3.x**\n",
    "    - `conda -V`<br>\n",
    "      conda 23.3.1\n",
    "    - `python -V`<br>\n",
    "      Python 3.10.9\n",
    "    - https://www.anaconda.com/distribution/#download-section<br>\n",
    "<br>\n",
    "2. Install Parallel Computing Library\n",
    "    - Open the **Anacoda** prompt and install `joblib` with the following command<br>\n",
    "    - `conda install joblib`\n",
    "    - 【Ref】 https://joblib.readthedocs.io/en/latest/parallel.html<br>\n"
   ]
  },
  {
   "cell_type": "code",
   "execution_count": 1,
   "metadata": {},
   "outputs": [
    {
     "name": "stdout",
     "output_type": "stream",
     "text": [
      "2023-05-23 22:42:21.780295\n"
     ]
    }
   ],
   "source": [
    "import datetime\n",
    "start_time = datetime.datetime.now()\n",
    "print(start_time)"
   ]
  },
  {
   "cell_type": "markdown",
   "metadata": {},
   "source": [
    "# Import required libraries"
   ]
  },
  {
   "cell_type": "code",
   "execution_count": 2,
   "metadata": {},
   "outputs": [],
   "source": [
    "import os.path\n",
    "import glob\n",
    "import numpy as np\n",
    "import matplotlib.pyplot as plt\n",
    "%matplotlib inline\n",
    "\n",
    "from joblib import Parallel, delayed"
   ]
  },
  {
   "cell_type": "code",
   "execution_count": 3,
   "metadata": {},
   "outputs": [],
   "source": [
    "import seaborn as sns\n",
    "sns.set_style(\"whitegrid\")"
   ]
  },
  {
   "cell_type": "markdown",
   "metadata": {},
   "source": [
    "## Configure the directory where frequency data is stored\n",
    "\n",
    "- It is assumed that there is a folder containing frequency data in the `fasta` directory."
   ]
  },
  {
   "cell_type": "code",
   "execution_count": 4,
   "metadata": {},
   "outputs": [],
   "source": [
    "fasta_dir = \"fasta\"\n",
    "\n",
    "if not (os.path.exists(fasta_dir) and os.path.isdir(fasta_dir)):\n",
    "    raise Exception(\"'fasta' directory is not found in this directory.\")\n",
    "\n",
    "count_dir = \"count_4_100000_100000\"\n",
    "\n",
    "COUNT_DIR = os.path.join(\"fasta\", count_dir)\n",
    "\n",
    "if not (os.path.exists(COUNT_DIR) and os.path.isdir(COUNT_DIR)):\n",
    "    raise Exception(COUNT_DIR + \" is not found.\")"
   ]
  },
  {
   "cell_type": "code",
   "execution_count": 5,
   "metadata": {},
   "outputs": [
    {
     "name": "stdout",
     "output_type": "stream",
     "text": [
      "fasta\\count_4_100000_100000\\som_2023_05_23_22_42\n",
      "\n"
     ]
    }
   ],
   "source": [
    "time_str = \"{}_{:02d}_{:02d}_{:02d}_{:02d}\".format(\n",
    "    start_time.year, start_time.month, start_time.day, start_time.hour, start_time.minute)\n",
    "dir_som = \"som_\" +  time_str\n",
    "\n",
    "DIR_OUTPUT = os.path.join(\"fasta\", count_dir, dir_som)\n",
    "\n",
    "if not os.path.isdir(DIR_OUTPUT):\n",
    "    os.mkdir(DIR_OUTPUT)\n",
    "\n",
    "fname = os.path.join(DIR_OUTPUT, \"log.txt\")\n",
    "LOGF = open(fname, mode='w', encoding='utf-8', newline=\"\\n\")\n",
    "LOGF.write(str(start_time) + \"\\n\\n\")\n",
    "\n",
    "def print_console_and_logfile(message):\n",
    "    print(message)\n",
    "    LOGF.write(message + \"\\n\")\n",
    "\n",
    "print_console_and_logfile(DIR_OUTPUT + \"\\n\")"
   ]
  },
  {
   "cell_type": "markdown",
   "metadata": {},
   "source": [
    "## Setting of various parameters"
   ]
  },
  {
   "cell_type": "code",
   "execution_count": 6,
   "metadata": {},
   "outputs": [
    {
     "data": {
      "text/plain": [
       "1"
      ]
     },
     "execution_count": 6,
     "metadata": {},
     "output_type": "execute_result"
    }
   ],
   "source": [
    "PARAMS = {\n",
    "  \"AUTO_PERCENT\"    : 0.25  ,  # (Number of SOM cells)/(Number of data) for PCA to generate initial values for the WEIGHT tensor\n",
    "  \"AUTO_SCALE\"      : 5.0   ,  # Shape parameters when generating initial values for the WEIGHT tensor in PCA\n",
    "\n",
    "  \"LEARNING_INITIAL\": 0.2   ,  # Initial value of learning speed\n",
    "  \"LEARNING_FINAL\"  : 0.1   ,  # End value of learning speed\n",
    "  \"LEARNING_DELTA\"  : 0.002 ,  # Decrease in learning rate\n",
    "\n",
    "  \"RADIUS_RATE\"     : 0.25  ,  # Ratio for setting the initial value of the neighbor radius (Ratio to the number of columns in the SOM array)\n",
    "  \"RADIUS_INITIAL\"  : 0.0   ,  # Initial value of the neighborhood radius (set automatically at the start of calculation)\n",
    "  \"RADIUS_FINAL\"    : 2     ,  # End value of the neighborhood radius\n",
    "  \"RADIUS_DELTA\"    : 0.1      # Decrease in the neighborhood radius\n",
    "}\n",
    "\n",
    "for key, val in PARAMS.items():\n",
    "    LOGF.write(\"{:18s} : {:}\\n\".format(key, val))\n",
    "LOGF.write(\"\\n\")"
   ]
  },
  {
   "cell_type": "markdown",
   "metadata": {},
   "source": [
    "## Load nucleotide frequency count data"
   ]
  },
  {
   "cell_type": "code",
   "execution_count": 7,
   "metadata": {},
   "outputs": [
    {
     "name": "stdout",
     "output_type": "stream",
     "text": [
      "Number of nucleotide types :256\n",
      "\n",
      "fasta\\count_4_100000_100000\\Hemi_chr3.cnt\n",
      "fasta\\count_4_100000_100000\\Lepi_chr1-4_22.cnt\n",
      "fasta\\count_4_100000_100000\\Odo_chr10.cnt\n",
      "fasta\\count_4_100000_100000\\Ortho_chr10.cnt\n",
      "fasta\\count_4_100000_100000\\Tri_chr5.cnt\n",
      "\n"
     ]
    }
   ],
   "source": [
    "labels_filename = os.path.join(COUNT_DIR, \"labels.txt\")\n",
    "\n",
    "NUC_LABELS = None\n",
    "if os.path.exists(labels_filename) and os.path.isfile(labels_filename):\n",
    "    with open(labels_filename) as f:\n",
    "        NUC_LABELS = f.read().split(\"\\t\")\n",
    "        print_console_and_logfile(\"Number of nucleotide types :\" + str(len(NUC_LABELS)) + \"\\n\")\n",
    "else:\n",
    "    raise Exception(\"Not found a file of 'labels.txt' in the directory : \" + COUNT_DIR + \".\")\n",
    "\n",
    "count_files = []\n",
    "filenames = os.path.join(COUNT_DIR, \"*\")\n",
    "ext_count     = [\".count\", \".cnt\"]\n",
    "\n",
    "for fname in glob.glob(filenames):\n",
    "    root, ext = os.path.splitext(fname)\n",
    "    if ext in ext_count:\n",
    "        count_files.append(fname)\n",
    "        print_console_and_logfile(fname)\n",
    "print_console_and_logfile(\"\")\n",
    "\n",
    "if len(count_files) == 0:\n",
    "    raise Exception(\"Not found Count files in the directory : \" + COUNT_DIR + \".\")"
   ]
  },
  {
   "cell_type": "code",
   "execution_count": 8,
   "metadata": {},
   "outputs": [
    {
     "name": "stdout",
     "output_type": "stream",
     "text": [
      "Hemi_chr3                 :   1044\n",
      "Lepi_chr1-4_22            :   1089\n",
      "Odo_chr10                 :   1086\n",
      "Ortho_chr10               :   2033\n",
      "Tri_chr5                  :   1046\n",
      "\n",
      "n_targets     = 6298\n",
      "n_samples     = 6298\n",
      "n_features    = 256\n",
      "\n"
     ]
    }
   ],
   "source": [
    "NAMES  = []\n",
    "TARGET = []\n",
    "DATA   = np.empty((0, len(NUC_LABELS)))\n",
    "\n",
    "for file in count_files:\n",
    "    fname = os.path.basename(file)\n",
    "    root, ext = os.path.splitext(fname)\n",
    "    NAMES.append(root)\n",
    "\n",
    "for idx, file in enumerate(count_files):\n",
    "    num = 0\n",
    "    with open(file) as f:\n",
    "        lines = f.readlines()\n",
    "        for line in lines:\n",
    "            if line[0] in ['%', '>', '#']:\n",
    "                continue\n",
    "            elif not line.strip():\n",
    "                continue\n",
    "            else:\n",
    "                TARGET.append(idx)\n",
    "                vec = line.split('\\t')\n",
    "                vec = [float(s) for s in vec]\n",
    "                vec = np.array([vec])\n",
    "                # 正規化\n",
    "                nvec = vec / np.sum(vec)\n",
    "                DATA = np.concatenate([DATA, nvec], 0)\n",
    "                num += 1\n",
    "    print_console_and_logfile(\"{:25s} : {:6d}\".format(NAMES[idx], num))\n",
    "\n",
    "n_targets = len(TARGET)\n",
    "print_console_and_logfile(\"\\nn_targets     = \" + str(n_targets))\n",
    "\n",
    "n_samples, n_features = DATA.shape\n",
    "print_console_and_logfile(  \"n_samples     = \" + str(n_samples))\n",
    "print_console_and_logfile(  \"n_features    = \" + str(n_features) + \"\\n\")"
   ]
  },
  {
   "cell_type": "markdown",
   "metadata": {},
   "source": [
    "## Generate initial vectors for SOM array using PCA"
   ]
  },
  {
   "cell_type": "code",
   "execution_count": 9,
   "metadata": {},
   "outputs": [],
   "source": [
    "from sklearn.decomposition import PCA\n",
    "\n",
    "def create_weight_by_pca(data, auto_scale):\n",
    "    print(\"data type = \", data.dtype)\n",
    "    \n",
    "    pca = PCA()\n",
    "    data_transformed = pca.fit_transform(data.tolist())\n",
    "    \n",
    "    eigenvalues  = pca.explained_variance_\n",
    "    eigenvectors = pca.components_\n",
    "    \n",
    "    eigenvalue1 = eigenvalues[0]\n",
    "    eigenvalue2 = eigenvalues[1]\n",
    "    print_console_and_logfile(\"eigenvalue1 = \" + \"{:.8f}\".format(eigenvalue1))\n",
    "    print_console_and_logfile(\"eigenvalue2 = \" + \"{:.8f}\".format(eigenvalue2))\n",
    "    \n",
    "    eigenvector1 = np.asarray(eigenvectors[0])\n",
    "    eigenvector2 = np.asarray(eigenvectors[1])\n",
    "    \n",
    "    # umulative contribution ratio\n",
    "    cum_con_ratio = pca.explained_variance_ratio_\n",
    "    cum_con_ratio = np.hstack([0, cum_con_ratio.cumsum()])\n",
    "    \n",
    "    print_console_and_logfile(\"cumulative contribution ratio 1 = \"\n",
    "                              + \"{:.8f}\".format(cum_con_ratio[1]))\n",
    "    print_console_and_logfile(\"cumulative contribution ratio 2 = \"\n",
    "                              + \"{:.8f}\".format(cum_con_ratio[2]) + \"\\n\")\n",
    "    \n",
    "    sd1 = np.sqrt(eigenvalue1)\n",
    "    sd2 = np.sqrt(eigenvalue2)\n",
    "\n",
    "    n_samples, n_features = data.shape\n",
    "    total_size = np.round(n_samples * PARAMS[\"AUTO_PERCENT\"])\n",
    "\n",
    "    rows = int(np.round(np.sqrt(total_size * sd2 / sd1)))\n",
    "    cols = int(np.round(np.sqrt(total_size * sd1 / sd2)))\n",
    "\n",
    "    rows = max(rows, 1)\n",
    "    cols = max(cols, 1)\n",
    "\n",
    "    print_console_and_logfile(\"rows = \" + str(rows))\n",
    "    print_console_and_logfile(\"cols = \" + str(cols))\n",
    "    print_console_and_logfile(\"dims = \" + str(n_features) + \"\\n\")\n",
    "\n",
    "    means = data.mean(axis=0)\n",
    "    weight = np.zeros((rows, cols, n_features))\n",
    "\n",
    "    for c in range(cols):\n",
    "        for r in range(rows):\n",
    "            a1 = ((c - cols / 2) / cols) * auto_scale * sd1\n",
    "            a2 = ((r - rows / 2) / rows) * auto_scale * sd2\n",
    "            weight[r, c, :] = means + a1 * eigenvector1 + a2 * eigenvector2\n",
    "    \n",
    "    plt.figure()\n",
    "    plt.plot(cum_con_ratio)\n",
    "    fname = os.path.join(DIR_OUTPUT, \"cumulative_contribution_ratio.png\")\n",
    "    plt.savefig(fname)\n",
    "    plt.show()\n",
    "    \n",
    "    return weight"
   ]
  },
  {
   "cell_type": "code",
   "execution_count": 10,
   "metadata": {
    "scrolled": false
   },
   "outputs": [
    {
     "name": "stdout",
     "output_type": "stream",
     "text": [
      "*** DATA.shape = (6298, 256)\n",
      "data type =  float64\n",
      "eigenvalue1 = 0.00042957\n",
      "eigenvalue2 = 0.00009875\n",
      "cumulative contribution ratio 1 = 0.50740477\n",
      "cumulative contribution ratio 2 = 0.62405189\n",
      "\n",
      "rows = 27\n",
      "cols = 57\n",
      "dims = 256\n",
      "\n"
     ]
    },
    {
     "data": {
      "image/png": "[encoded data removed]",
      "text/plain": [
       "<Figure size 640x480 with 1 Axes>"
      ]
     },
     "metadata": {},
     "output_type": "display_data"
    }
   ],
   "source": [
    "isLoadingFromFile = False\n",
    "\n",
    "fname = os.path.join(\"fasta\", \"count_5_10000_10000\", \"som_2019_07_07_15_37\", \"weight.npz\")\n",
    "\n",
    "if isLoadingFromFile:\n",
    "    with np.load(fname) as f:\n",
    "        WEIGHT = f[\"w\"]\n",
    "    \n",
    "    print_console_and_logfile(fname + \"\\n\")\n",
    "    print_console_and_logfile(\"rows = \" + str(WEIGHT.shape[0]))\n",
    "    print_console_and_logfile(\"cols = \" + str(WEIGHT.shape[1]))\n",
    "    print_console_and_logfile(\"dims = \" + str(WEIGHT.shape[2]) + \"\\n\")\n",
    "    \n",
    "    if WEIGHT.shape[2] != n_features:\n",
    "        raise Exception(\n",
    "            \"Missmatch of WEIGHT tensor's shape: \" + str(WEIGHT.shape[2]) + \" != \" + str(n_features) + \".\")\n",
    "else:\n",
    "    print(\"*** DATA.shape =\", DATA.shape)\n",
    "    WEIGHT = create_weight_by_pca(DATA, PARAMS[\"AUTO_SCALE\"])"
   ]
  },
  {
   "cell_type": "markdown",
   "metadata": {},
   "source": [
    "## Create array of colors for SOM cells"
   ]
  },
  {
   "cell_type": "code",
   "execution_count": 11,
   "metadata": {},
   "outputs": [
    {
     "name": "stdout",
     "output_type": "stream",
     "text": [
      "SHAPE:  (5, 3)\n"
     ]
    }
   ],
   "source": [
    "import colorsys\n",
    "\n",
    "hsv_to_rgb_list = [colorsys.hsv_to_rgb(h, 1.0, 1.0) for h in np.linspace(0, 240/360, len(NAMES))]\n",
    "COLORS = np.array(hsv_to_rgb_list)\n",
    "print(\"SHAPE: \", COLORS.shape)\n",
    "\n",
    "black = (0.0, 0.0, 0.0)  # State in which different labels are assigned to the same cell\n",
    "white = (1.0, 1.0, 1.0)  # Unassigned state\n",
    "\n",
    "def palette(colObj):\n",
    "    idx = colObj.index\n",
    "    return COLORS[idx] if idx >= 0 else (white if idx == -1 else black)\n",
    "\n",
    "def getColorArray(idx_array):\n",
    "    np_array = np.array(idx_array)\n",
    "    color_list = list(map(lambda i: palette(i), np_array.reshape(-1)))\n",
    "    return np.array(color_list).reshape(np_array.shape[0], np_array.shape[1], 3)"
   ]
  },
  {
   "cell_type": "markdown",
   "metadata": {},
   "source": [
    "##  Define class and functions used to compute the SOM"
   ]
  },
  {
   "cell_type": "code",
   "execution_count": 12,
   "metadata": {},
   "outputs": [],
   "source": [
    "class CellColorIndex():\n",
    "    def __init__(self):\n",
    "        self.colIdx = -1\n",
    "    \n",
    "    def __repr__(self):\n",
    "        return str(self.colIdx)\n",
    "    \n",
    "    @property\n",
    "    def index(self):\n",
    "        return self.colIdx\n",
    "    \n",
    "    def reset(self):\n",
    "        self.colIdx = -1\n",
    "    \n",
    "    def set(self, val):\n",
    "        if self.colIdx != -2:\n",
    "            if self.colIdx == -1:\n",
    "                self.colIdx = val\n",
    "            else:\n",
    "                if self.colIdx != val:\n",
    "                    self.colIdx = -2"
   ]
  },
  {
   "cell_type": "code",
   "execution_count": 13,
   "metadata": {},
   "outputs": [],
   "source": [
    "def create_image(cell_color, step):\n",
    "    plt.axis(\"off\")\n",
    "    image = plt.imshow(cell_color, interpolation='none')\n",
    "    fname = os.path.join(DIR_OUTPUT, '{0:04d}'.format(step))\n",
    "    plt.savefig(fname, bbox_inches='tight')\n",
    "    plt.close()\n",
    "    \n",
    "    return image"
   ]
  },
  {
   "cell_type": "code",
   "execution_count": 14,
   "metadata": {},
   "outputs": [],
   "source": [
    "def find_matching_cell(weight, invec):\n",
    "    min_idx = np.argmin(np.sum((weight - invec)**2, axis=2))\n",
    "    rows, cols = weight.shape[:2]\n",
    "    return np.unravel_index(min_idx, (rows, cols))"
   ]
  },
  {
   "cell_type": "code",
   "execution_count": 15,
   "metadata": {},
   "outputs": [],
   "source": [
    "def get_neighbor_matrix(radius):\n",
    "    size = 2 * radius + 1\n",
    "    rs, cs = np.mgrid[0:size, 0:size]\n",
    "    coordinates = np.hstack([rs.flatten()[:, np.newaxis], cs.flatten()[:, np.newaxis]])    \n",
    "    \n",
    "    center = np.array([radius, radius])\n",
    "    dist = np.linalg.norm(coordinates - center, axis=1).reshape(size, size)\n",
    "    \n",
    "    nb_mat = 1.0 - dist / radius\n",
    "    nb_mat[nb_mat < 0] = 0.0\n",
    "    \n",
    "    return nb_mat"
   ]
  },
  {
   "cell_type": "code",
   "execution_count": 16,
   "metadata": {},
   "outputs": [],
   "source": [
    "def calc_neighbor_effect(r, c, radius, invec, nb_mat, neighbor_sum, neighbor_cnt):    \n",
    "    r_row_min = max(radius - r, 0)\n",
    "    r_row_max = min(radius - r + rows, 2 * radius + 1)\n",
    "    r_col_min = max(radius - c, 0)\n",
    "    r_col_max = min(radius - c + cols, 2 * radius + 1)\n",
    "    \n",
    "    dc = nb_mat[r_row_min:r_row_max, r_col_min:r_col_max]\n",
    "\n",
    "    w_row_min = max(r - radius, 0)\n",
    "    w_row_max = min(r + radius + 1, rows)\n",
    "    w_col_min = max(c - radius, 0)\n",
    "    w_col_max = min(c + radius + 1, cols)\n",
    "    \n",
    "    neighbor_sum[w_row_min:w_row_max, w_col_min:w_col_max] += invec * dc[:, :, np.newaxis]\n",
    "    neighbor_cnt[w_row_min:w_row_max, w_col_min:w_col_max] += dc"
   ]
  },
  {
   "cell_type": "code",
   "execution_count": 17,
   "metadata": {},
   "outputs": [],
   "source": [
    "def get_next_params(step):    \n",
    "    radius = max(round(PARAMS[\"RADIUS_INITIAL\"] - step * PARAMS[\"RADIUS_DELTA\"]), 0)\n",
    "    isExistNextRange = True\n",
    "    \n",
    "    if radius < PARAMS[\"RADIUS_FINAL\"]:\n",
    "        radius = PARAMS[\"RADIUS_FINAL\"]\n",
    "        isExistNextRange = False\n",
    "    \n",
    "    alpha = max(PARAMS[\"LEARNING_INITIAL\"] - step * PARAMS[\"LEARNING_DELTA\"], 0)\n",
    "    isExistNextAlpha = True\n",
    "    \n",
    "    if alpha < PARAMS[\"LEARNING_FINAL\"]:\n",
    "        alpha = PARAMS[\"LEARNING_FINAL\"]\n",
    "        isExistNextAlpha = False\n",
    "    \n",
    "    isExist = isExistNextRange or isExistNextAlpha\n",
    "    \n",
    "    return isExist, radius, alpha"
   ]
  },
  {
   "cell_type": "code",
   "execution_count": 18,
   "metadata": {},
   "outputs": [
    {
     "name": "stdout",
     "output_type": "stream",
     "text": [
      "Elapsed Time  : 0:00:10.906546\n",
      "\n"
     ]
    }
   ],
   "source": [
    "print_console_and_logfile(\"Elapsed Time  : \" + str(datetime.datetime.now() - start_time) + \"\\n\")"
   ]
  },
  {
   "cell_type": "markdown",
   "metadata": {},
   "source": [
    "## Output Legend"
   ]
  },
  {
   "cell_type": "code",
   "execution_count": 19,
   "metadata": {},
   "outputs": [
    {
     "data": {
      "image/png": "[encoded data removed]",
      "text/plain": [
       "<Figure size 640x480 with 1 Axes>"
      ]
     },
     "metadata": {},
     "output_type": "display_data"
    }
   ],
   "source": [
    "plt.axis(\"off\")\n",
    "\n",
    "f = lambda c: plt.plot([], [], marker=\"s\", color=c, linestyle=\"none\")[0]\n",
    "handles = [f(c) for c in COLORS]\n",
    "legend = plt.legend(handles, NAMES, loc=\"center\", frameon=True, fontsize=20, markerscale=2)\n",
    "legend.set_alpha(1.0)\n",
    "\n",
    "fig  = legend.figure\n",
    "fig.canvas.draw()\n",
    "bbox  = legend.get_window_extent()\n",
    "bbox = bbox.from_extents(*(bbox.extents + np.array([-5, -5, 5, 5])))\n",
    "bbox = bbox.transformed(fig.dpi_scale_trans.inverted())\n",
    "\n",
    "fname = os.path.join(DIR_OUTPUT, \"legend.png\")\n",
    "fig.savefig(fname, dpi=\"figure\", bbox_inches=bbox)\n",
    "\n",
    "plt.show()"
   ]
  },
  {
   "cell_type": "markdown",
   "metadata": {},
   "source": [
    "## Start SOM calculation"
   ]
  },
  {
   "cell_type": "code",
   "execution_count": 20,
   "metadata": {
    "scrolled": false
   },
   "outputs": [
    {
     "name": "stdout",
     "output_type": "stream",
     "text": [
      "Step =     0, Radius = 14, alpha = 0.2000, dist = 0.1823 : Time = 2023-05-23 22:42:44.35 - 11.45\n",
      "Step =     1, Radius = 14, alpha = 0.1980, dist = 0.1226 : Time = 2023-05-23 22:42:53.64 - 9.29\n",
      "Step =     2, Radius = 14, alpha = 0.1960, dist = 0.0909 : Time = 2023-05-23 22:43:02.87 - 9.23\n",
      "Step =     3, Radius = 14, alpha = 0.1940, dist = 0.0707 : Time = 2023-05-23 22:43:11.98 - 9.11\n",
      "Step =     4, Radius = 14, alpha = 0.1920, dist = 0.0564 : Time = 2023-05-23 22:43:21.37 - 9.40\n",
      "Step =     5, Radius = 14, alpha = 0.1900, dist = 0.0496 : Time = 2023-05-23 22:43:30.75 - 9.38\n",
      "Step =     6, Radius = 13, alpha = 0.1880, dist = 0.0476 : Time = 2023-05-23 22:43:39.33 - 8.57\n",
      "Step =     7, Radius = 13, alpha = 0.1860, dist = 0.0436 : Time = 2023-05-23 22:43:47.90 - 8.57\n",
      "Step =     8, Radius = 13, alpha = 0.1840, dist = 0.0423 : Time = 2023-05-23 22:43:56.39 - 8.49\n",
      "Step =     9, Radius = 13, alpha = 0.1820, dist = 0.0408 : Time = 2023-05-23 22:44:04.58 - 8.19\n",
      "Step =    10, Radius = 13, alpha = 0.1800, dist = 0.0371 : Time = 2023-05-23 22:44:12.38 - 7.80\n",
      "Step =    11, Radius = 13, alpha = 0.1780, dist = 0.0323 : Time = 2023-05-23 22:44:20.08 - 7.70\n",
      "Step =    12, Radius = 13, alpha = 0.1760, dist = 0.0280 : Time = 2023-05-23 22:44:27.78 - 7.70\n",
      "Step =    13, Radius = 13, alpha = 0.1740, dist = 0.0242 : Time = 2023-05-23 22:44:35.41 - 7.62\n",
      "Step =    14, Radius = 13, alpha = 0.1720, dist = 0.0211 : Time = 2023-05-23 22:44:43.12 - 7.71\n",
      "Step =    15, Radius = 12, alpha = 0.1700, dist = 0.0191 : Time = 2023-05-23 22:44:50.45 - 7.33\n",
      "Step =    16, Radius = 12, alpha = 0.1680, dist = 0.0161 : Time = 2023-05-23 22:44:57.86 - 7.41\n",
      "Step =    17, Radius = 12, alpha = 0.1660, dist = 0.0137 : Time = 2023-05-23 22:45:05.18 - 7.32\n",
      "Step =    18, Radius = 12, alpha = 0.1640, dist = 0.0121 : Time = 2023-05-23 22:45:12.51 - 7.32\n",
      "Step =    19, Radius = 12, alpha = 0.1620, dist = 0.0106 : Time = 2023-05-23 22:45:19.81 - 7.31\n",
      "Step =    20, Radius = 12, alpha = 0.1600, dist = 0.0096 : Time = 2023-05-23 22:45:27.12 - 7.30\n",
      "Step =    21, Radius = 12, alpha = 0.1580, dist = 0.0086 : Time = 2023-05-23 22:45:34.43 - 7.32\n",
      "Step =    22, Radius = 12, alpha = 0.1560, dist = 0.0079 : Time = 2023-05-23 22:45:41.81 - 7.37\n",
      "Step =    23, Radius = 12, alpha = 0.1540, dist = 0.0073 : Time = 2023-05-23 22:45:49.02 - 7.21\n",
      "Step =    24, Radius = 12, alpha = 0.1520, dist = 0.0066 : Time = 2023-05-23 22:45:56.29 - 7.27\n",
      "Step =    25, Radius = 12, alpha = 0.1500, dist = 0.0062 : Time = 2023-05-23 22:46:03.57 - 7.28\n",
      "Step =    26, Radius = 11, alpha = 0.1480, dist = 0.0097 : Time = 2023-05-23 22:46:10.49 - 6.92\n",
      "Step =    27, Radius = 11, alpha = 0.1460, dist = 0.0078 : Time = 2023-05-23 22:46:17.42 - 6.93\n",
      "Step =    28, Radius = 11, alpha = 0.1440, dist = 0.0063 : Time = 2023-05-23 22:46:24.41 - 6.98\n",
      "Step =    29, Radius = 11, alpha = 0.1420, dist = 0.0053 : Time = 2023-05-23 22:46:31.35 - 6.94\n",
      "Step =    30, Radius = 11, alpha = 0.1400, dist = 0.0045 : Time = 2023-05-23 22:46:38.33 - 6.98\n",
      "Step =    31, Radius = 11, alpha = 0.1380, dist = 0.0039 : Time = 2023-05-23 22:46:45.26 - 6.94\n",
      "Step =    32, Radius = 11, alpha = 0.1360, dist = 0.0036 : Time = 2023-05-23 22:46:52.22 - 6.96\n",
      "Step =    33, Radius = 11, alpha = 0.1340, dist = 0.0033 : Time = 2023-05-23 22:46:59.17 - 6.95\n",
      "Step =    34, Radius = 11, alpha = 0.1320, dist = 0.0032 : Time = 2023-05-23 22:47:06.17 - 7.00\n",
      "Step =    35, Radius = 10, alpha = 0.1300, dist = 0.0080 : Time = 2023-05-23 22:47:12.97 - 6.81\n",
      "Step =    36, Radius = 10, alpha = 0.1280, dist = 0.0066 : Time = 2023-05-23 22:47:19.72 - 6.75\n",
      "Step =    37, Radius = 10, alpha = 0.1260, dist = 0.0054 : Time = 2023-05-23 22:47:26.49 - 6.77\n",
      "Step =    38, Radius = 10, alpha = 0.1240, dist = 0.0044 : Time = 2023-05-23 22:47:33.14 - 6.65\n",
      "Step =    39, Radius = 10, alpha = 0.1220, dist = 0.0036 : Time = 2023-05-23 22:47:39.87 - 6.73\n",
      "Step =    40, Radius = 10, alpha = 0.1200, dist = 0.0030 : Time = 2023-05-23 22:47:46.59 - 6.72\n",
      "Step =    41, Radius = 10, alpha = 0.1180, dist = 0.0026 : Time = 2023-05-23 22:47:53.33 - 6.74\n",
      "Step =    42, Radius = 10, alpha = 0.1160, dist = 0.0023 : Time = 2023-05-23 22:48:00.10 - 6.76\n",
      "Step =    43, Radius = 10, alpha = 0.1140, dist = 0.0022 : Time = 2023-05-23 22:48:06.84 - 6.74\n",
      "Step =    44, Radius = 10, alpha = 0.1120, dist = 0.0021 : Time = 2023-05-23 22:48:13.56 - 6.73\n",
      "Step =    45, Radius = 10, alpha = 0.1100, dist = 0.0020 : Time = 2023-05-23 22:48:20.27 - 6.70\n",
      "Step =    46, Radius =  9, alpha = 0.1080, dist = 0.0064 : Time = 2023-05-23 22:48:26.92 - 6.65\n",
      "Step =    47, Radius =  9, alpha = 0.1060, dist = 0.0055 : Time = 2023-05-23 22:48:33.56 - 6.64\n",
      "Step =    48, Radius =  9, alpha = 0.1040, dist = 0.0046 : Time = 2023-05-23 22:48:40.17 - 6.61\n",
      "Step =    49, Radius =  9, alpha = 0.1020, dist = 0.0039 : Time = 2023-05-23 22:48:46.84 - 6.67\n",
      "Step =    50, Radius =  9, alpha = 0.1000, dist = 0.0033 : Time = 2023-05-23 22:48:53.49 - 6.66\n",
      "Step =    51, Radius =  9, alpha = 0.1000, dist = 0.0029 : Time = 2023-05-23 22:49:00.05 - 6.55\n",
      "Step =    52, Radius =  9, alpha = 0.1000, dist = 0.0025 : Time = 2023-05-23 22:49:06.69 - 6.64\n",
      "Step =    53, Radius =  9, alpha = 0.1000, dist = 0.0023 : Time = 2023-05-23 22:49:13.32 - 6.63\n",
      "Step =    54, Radius =  9, alpha = 0.1000, dist = 0.0022 : Time = 2023-05-23 22:49:19.95 - 6.64\n",
      "Step =    55, Radius =  8, alpha = 0.1000, dist = 0.0075 : Time = 2023-05-23 22:49:26.55 - 6.59\n",
      "Step =    56, Radius =  8, alpha = 0.1000, dist = 0.0065 : Time = 2023-05-23 22:49:33.13 - 6.58\n",
      "Step =    57, Radius =  8, alpha = 0.1000, dist = 0.0058 : Time = 2023-05-23 22:49:39.77 - 6.64\n",
      "Step =    58, Radius =  8, alpha = 0.1000, dist = 0.0051 : Time = 2023-05-23 22:49:46.33 - 6.56\n",
      "Step =    59, Radius =  8, alpha = 0.1000, dist = 0.0045 : Time = 2023-05-23 22:49:52.96 - 6.63\n",
      "Step =    60, Radius =  8, alpha = 0.1000, dist = 0.0040 : Time = 2023-05-23 22:49:59.50 - 6.54\n",
      "Step =    61, Radius =  8, alpha = 0.1000, dist = 0.0035 : Time = 2023-05-23 22:50:06.08 - 6.58\n",
      "Step =    62, Radius =  8, alpha = 0.1000, dist = 0.0032 : Time = 2023-05-23 22:50:12.64 - 6.56\n",
      "Step =    63, Radius =  8, alpha = 0.1000, dist = 0.0029 : Time = 2023-05-23 22:50:19.19 - 6.55\n",
      "Step =    64, Radius =  8, alpha = 0.1000, dist = 0.0027 : Time = 2023-05-23 22:50:25.73 - 6.54\n",
      "Step =    65, Radius =  8, alpha = 0.1000, dist = 0.0025 : Time = 2023-05-23 22:50:32.36 - 6.63\n",
      "Step =    66, Radius =  7, alpha = 0.1000, dist = 0.0083 : Time = 2023-05-23 22:50:38.86 - 6.50\n",
      "Step =    67, Radius =  7, alpha = 0.1000, dist = 0.0073 : Time = 2023-05-23 22:50:45.36 - 6.51\n",
      "Step =    68, Radius =  7, alpha = 0.1000, dist = 0.0065 : Time = 2023-05-23 22:50:51.86 - 6.50\n",
      "Step =    69, Radius =  7, alpha = 0.1000, dist = 0.0057 : Time = 2023-05-23 22:50:58.35 - 6.49\n",
      "Step =    70, Radius =  7, alpha = 0.1000, dist = 0.0051 : Time = 2023-05-23 22:51:04.87 - 6.52\n",
      "Step =    71, Radius =  7, alpha = 0.1000, dist = 0.0045 : Time = 2023-05-23 22:51:11.37 - 6.50\n",
      "Step =    72, Radius =  7, alpha = 0.1000, dist = 0.0040 : Time = 2023-05-23 22:51:17.99 - 6.62\n",
      "Step =    73, Radius =  7, alpha = 0.1000, dist = 0.0036 : Time = 2023-05-23 22:51:24.57 - 6.58\n",
      "Step =    74, Radius =  7, alpha = 0.1000, dist = 0.0034 : Time = 2023-05-23 22:51:31.11 - 6.54\n",
      "Step =    75, Radius =  6, alpha = 0.1000, dist = 0.0102 : Time = 2023-05-23 22:51:37.50 - 6.39\n",
      "Step =    76, Radius =  6, alpha = 0.1000, dist = 0.0091 : Time = 2023-05-23 22:51:43.90 - 6.40\n",
      "Step =    77, Radius =  6, alpha = 0.1000, dist = 0.0082 : Time = 2023-05-23 22:51:50.30 - 6.40\n",
      "Step =    78, Radius =  6, alpha = 0.1000, dist = 0.0072 : Time = 2023-05-23 22:51:56.76 - 6.46\n",
      "Step =    79, Radius =  6, alpha = 0.1000, dist = 0.0064 : Time = 2023-05-23 22:52:03.18 - 6.42\n",
      "Step =    80, Radius =  6, alpha = 0.1000, dist = 0.0057 : Time = 2023-05-23 22:52:09.59 - 6.41\n",
      "Step =    81, Radius =  6, alpha = 0.1000, dist = 0.0051 : Time = 2023-05-23 22:52:16.10 - 6.50\n",
      "Step =    82, Radius =  6, alpha = 0.1000, dist = 0.0045 : Time = 2023-05-23 22:52:22.50 - 6.41\n",
      "Step =    83, Radius =  6, alpha = 0.1000, dist = 0.0042 : Time = 2023-05-23 22:52:28.94 - 6.44\n",
      "Step =    84, Radius =  6, alpha = 0.1000, dist = 0.0041 : Time = 2023-05-23 22:52:35.35 - 6.41\n",
      "Step =    85, Radius =  6, alpha = 0.1000, dist = 0.0038 : Time = 2023-05-23 22:52:41.76 - 6.41\n"
     ]
    },
    {
     "name": "stdout",
     "output_type": "stream",
     "text": [
      "Step =    86, Radius =  5, alpha = 0.1000, dist = 0.0125 : Time = 2023-05-23 22:52:48.09 - 6.33\n",
      "Step =    87, Radius =  5, alpha = 0.1000, dist = 0.0110 : Time = 2023-05-23 22:52:54.45 - 6.36\n",
      "Step =    88, Radius =  5, alpha = 0.1000, dist = 0.0099 : Time = 2023-05-23 22:53:00.85 - 6.40\n",
      "Step =    89, Radius =  5, alpha = 0.1000, dist = 0.0088 : Time = 2023-05-23 22:53:07.31 - 6.46\n",
      "Step =    90, Radius =  5, alpha = 0.1000, dist = 0.0079 : Time = 2023-05-23 22:53:13.67 - 6.36\n",
      "Step =    91, Radius =  5, alpha = 0.1000, dist = 0.0069 : Time = 2023-05-23 22:53:20.08 - 6.41\n",
      "Step =    92, Radius =  5, alpha = 0.1000, dist = 0.0063 : Time = 2023-05-23 22:53:26.44 - 6.37\n",
      "Step =    93, Radius =  5, alpha = 0.1000, dist = 0.0056 : Time = 2023-05-23 22:53:32.84 - 6.40\n",
      "Step =    94, Radius =  5, alpha = 0.1000, dist = 0.0050 : Time = 2023-05-23 22:53:39.20 - 6.36\n",
      "Step =    95, Radius =  4, alpha = 0.1000, dist = 0.0165 : Time = 2023-05-23 22:53:45.49 - 6.29\n",
      "Step =    96, Radius =  4, alpha = 0.1000, dist = 0.0148 : Time = 2023-05-23 22:53:51.80 - 6.31\n",
      "Step =    97, Radius =  4, alpha = 0.1000, dist = 0.0132 : Time = 2023-05-23 22:53:58.08 - 6.28\n",
      "Step =    98, Radius =  4, alpha = 0.1000, dist = 0.0118 : Time = 2023-05-23 22:54:04.41 - 6.33\n",
      "Step =    99, Radius =  4, alpha = 0.1000, dist = 0.0108 : Time = 2023-05-23 22:54:10.86 - 6.45\n",
      "Step =   100, Radius =  4, alpha = 0.1000, dist = 0.0098 : Time = 2023-05-23 22:54:17.15 - 6.29\n",
      "Step =   101, Radius =  4, alpha = 0.1000, dist = 0.0087 : Time = 2023-05-23 22:54:23.47 - 6.32\n",
      "Step =   102, Radius =  4, alpha = 0.1000, dist = 0.0077 : Time = 2023-05-23 22:54:29.79 - 6.31\n",
      "Step =   103, Radius =  4, alpha = 0.1000, dist = 0.0070 : Time = 2023-05-23 22:54:36.09 - 6.30\n",
      "Step =   104, Radius =  4, alpha = 0.1000, dist = 0.0062 : Time = 2023-05-23 22:54:42.41 - 6.32\n",
      "Step =   105, Radius =  4, alpha = 0.1000, dist = 0.0055 : Time = 2023-05-23 22:54:48.73 - 6.33\n",
      "Step =   106, Radius =  3, alpha = 0.1000, dist = 0.0251 : Time = 2023-05-23 22:54:54.96 - 6.23\n",
      "Step =   107, Radius =  3, alpha = 0.1000, dist = 0.0221 : Time = 2023-05-23 22:55:01.22 - 6.27\n",
      "Step =   108, Radius =  3, alpha = 0.1000, dist = 0.0185 : Time = 2023-05-23 22:55:07.52 - 6.30\n",
      "Step =   109, Radius =  3, alpha = 0.1000, dist = 0.0165 : Time = 2023-05-23 22:55:13.86 - 6.34\n",
      "Step =   110, Radius =  3, alpha = 0.1000, dist = 0.0146 : Time = 2023-05-23 22:55:20.27 - 6.41\n",
      "Step =   111, Radius =  3, alpha = 0.1000, dist = 0.0127 : Time = 2023-05-23 22:55:26.53 - 6.26\n",
      "Step =   112, Radius =  3, alpha = 0.1000, dist = 0.0117 : Time = 2023-05-23 22:55:32.76 - 6.22\n",
      "Step =   113, Radius =  3, alpha = 0.1000, dist = 0.0103 : Time = 2023-05-23 22:55:39.03 - 6.27\n",
      "Step =   114, Radius =  3, alpha = 0.1000, dist = 0.0090 : Time = 2023-05-23 22:55:45.30 - 6.27\n",
      "Step =   115, Radius =  2, alpha = 0.1000, dist = 0.0398 : Time = 2023-05-23 22:55:51.51 - 6.21\n",
      "Step =   116, Radius =  2, alpha = 0.1000, dist = 0.0354 : Time = 2023-05-23 22:55:57.72 - 6.21\n",
      "Step =   117, Radius =  2, alpha = 0.1000, dist = 0.0313 : Time = 2023-05-23 22:56:03.90 - 6.18\n",
      "Step =   118, Radius =  2, alpha = 0.1000, dist = 0.0280 : Time = 2023-05-23 22:56:10.11 - 6.21\n",
      "Step =   119, Radius =  2, alpha = 0.1000, dist = 0.0251 : Time = 2023-05-23 22:56:16.32 - 6.22\n",
      "Step =   120, Radius =  2, alpha = 0.1000, dist = 0.0221 : Time = 2023-05-23 22:56:22.54 - 6.22\n",
      "Step =   121, Radius =  2, alpha = 0.1000, dist = 0.0199 : Time = 2023-05-23 22:56:28.89 - 6.35\n",
      "Step =   122, Radius =  2, alpha = 0.1000, dist = 0.0214 : Time = 2023-05-23 22:56:35.20 - 6.30\n",
      "Step =   123, Radius =  2, alpha = 0.1000, dist = 0.0194 : Time = 2023-05-23 22:56:41.40 - 6.20\n",
      "Step =   124, Radius =  2, alpha = 0.1000, dist = 0.0173 : Time = 2023-05-23 22:56:47.60 - 6.20\n",
      "Step =   125, Radius =  2, alpha = 0.1000, dist = 0.0129 : Time = 2023-05-23 22:56:53.79 - 6.19\n",
      "\n",
      "SOM : 0:14:20.896868\n"
     ]
    }
   ],
   "source": [
    "start = datetime.datetime.now()\n",
    "\n",
    "rows, cols = WEIGHT.shape[:2]\n",
    "neighbor_sum = np.zeros((rows, cols, n_features))\n",
    "neighbor_cnt = np.zeros((rows, cols))\n",
    "\n",
    "CELL_LABEL = [[CellColorIndex() for j in range(cols)] for i in range(rows)]\n",
    "\n",
    "radius = PARAMS[\"RADIUS_INITIAL\"] = round(PARAMS[\"RADIUS_RATE\"] * cols)\n",
    "alpha  = PARAMS[\"LEARNING_INITIAL\"]\n",
    "\n",
    "fig = plt.figure()\n",
    "\n",
    "step   = 0\n",
    "while True:\n",
    "    begin = datetime.datetime.now()\n",
    "    \n",
    "    neighbor_sum.fill(0.0)\n",
    "    neighbor_cnt.fill(0.0)\n",
    "    \n",
    "    for r in range(rows):\n",
    "        for c in range(cols):\n",
    "            CELL_LABEL[r][c].reset()\n",
    "        \n",
    "    res = Parallel(n_jobs=-1)(\n",
    "          [delayed(find_matching_cell)(WEIGHT, DATA[i])\n",
    "          for i in range(n_samples)])\n",
    "    \n",
    "    nb_mat = get_neighbor_matrix(radius)\n",
    "    \n",
    "    rs, cs = zip(*res)\n",
    "    for i, (r, c) in enumerate(zip(rs, cs)):\n",
    "        calc_neighbor_effect(r, c, radius, DATA[i], nb_mat, neighbor_sum, neighbor_cnt)\n",
    "        CELL_LABEL[int(r)][int(c)].set(TARGET[i])\n",
    "    \n",
    "    np.seterr(divide='ignore', invalid='ignore')\n",
    "    \n",
    "    ncnt = neighbor_cnt[:, :, np.newaxis]\n",
    "    average = np.where(ncnt == 0, np.zeros_like(neighbor_sum), neighbor_sum / ncnt)\n",
    "    \n",
    "    dw = alpha * (average - WEIGHT)\n",
    "    \n",
    "    WEIGHT += dw\n",
    "    \n",
    "    cell_color = getColorArray(CELL_LABEL)\n",
    "    image = create_image(cell_color, step)\n",
    "    \n",
    "    dist = np.linalg.norm(dw)\n",
    "    ds1 = datetime.datetime.now().strftime(\"%Y-%m-%d %H:%M:%S.%f\")\n",
    "    ds2 = \"{:.2f}\".format((datetime.datetime.now() - begin).total_seconds())\n",
    "    print_console_and_logfile(\n",
    "        \"Step = {:5d}, Radius = {:2d}, alpha = {:.4f}, dist = {:.4f} : Time = {} - {}\".format(\n",
    "        step, radius, alpha, dist, ds1[:-4], ds2))\n",
    "\n",
    "    step += 1\n",
    "    isExist, radius, alpha = get_next_params(step)\n",
    "    if not isExist:\n",
    "        break\n",
    "\n",
    "print_console_and_logfile(\"\\nSOM : \" + str(datetime.datetime.now() - start))\n",
    "\n",
    "plt.show()"
   ]
  },
  {
   "cell_type": "markdown",
   "metadata": {},
   "source": [
    "## Saving learning results"
   ]
  },
  {
   "cell_type": "code",
   "execution_count": 21,
   "metadata": {},
   "outputs": [],
   "source": [
    "fname = os.path.join(DIR_OUTPUT, \"weight.npz\")\n",
    "np.savez_compressed(fname, w=WEIGHT)"
   ]
  },
  {
   "cell_type": "markdown",
   "metadata": {},
   "source": [
    "## Outputs U-Matrix diagrams"
   ]
  },
  {
   "cell_type": "code",
   "execution_count": 22,
   "metadata": {},
   "outputs": [
    {
     "name": "stdout",
     "output_type": "stream",
     "text": [
      "WEIGHT.shape =  (27, 57, 256)\n"
     ]
    }
   ],
   "source": [
    "dr = 1\n",
    "\n",
    "print(\"WEIGHT.shape = \", WEIGHT.shape)\n",
    "\n",
    "sizeY = WEIGHT.shape[0]\n",
    "sizeX = WEIGHT.shape[1]\n",
    "\n",
    "def calcColorByValue(distArray):\n",
    "    maxv = np.max(distArray)\n",
    "    minv = np.min(distArray)\n",
    "    width = maxv - minv\n",
    "    \n",
    "    colorArray = np.sqrt((distArray - minv) / width)\n",
    "    \n",
    "    return colorArray\n",
    "\n",
    "distArray = np.zeros((sizeY, sizeX))\n",
    "\n",
    "for ix in range(sizeX):\n",
    "    for iy in range(sizeY):\n",
    "        weight = WEIGHT[iy, ix, :]\n",
    "        distArray[iy][ix] = 0\n",
    "        \n",
    "        for dx in range(-dr, dr+1):\n",
    "            nx = ix + dx\n",
    "            if (nx < 0 or nx >= sizeX):\n",
    "                continue\n",
    "            \n",
    "            y2 = dr * dr - dx * dx\n",
    "            dyMax = int(np.round(np.sqrt(y2)))\n",
    "            \n",
    "            for dy in range(-dyMax, dyMax + 1):\n",
    "                ny = iy + dy\n",
    "                if (ny < 0 or ny >= sizeY):\n",
    "                    continue\n",
    "                \n",
    "                if (nx == ix and ny == iy):\n",
    "                    continue\n",
    "                \n",
    "                nWeight = WEIGHT[ny, nx, :]\n",
    "                \n",
    "                dist = np.linalg.norm(weight - nWeight)\n",
    "                distArray[iy][ix] += dist\n",
    "\n",
    "colorArray = calcColorByValue(distArray)\n",
    "\n",
    "plt.axis(\"off\")\n",
    "plt.imshow(colorArray, cmap=\"Greys\", interpolation='none')\n",
    "plt.clim(0.0, 1.0)\n",
    "fname = os.path.join(DIR_OUTPUT, \"U-Matrix.png\")\n",
    "plt.savefig(fname, bbox_inches='tight')\n",
    "plt.close()"
   ]
  },
  {
   "cell_type": "markdown",
   "metadata": {},
   "source": [
    "## Output a diagram of the component analysis"
   ]
  },
  {
   "cell_type": "code",
   "execution_count": 23,
   "metadata": {
    "scrolled": true
   },
   "outputs": [],
   "source": [
    "import sys\n",
    "\n",
    "def create_comp_image(index, fname):\n",
    "    sizeY = WEIGHT.shape[0]\n",
    "    sizeX = WEIGHT.shape[1]\n",
    "    \n",
    "    maxv = -sys.float_info.max\n",
    "    minv =  sys.float_info.max\n",
    "    \n",
    "    for ix in range(sizeX):\n",
    "        for iy in range(sizeY):\n",
    "            weight = WEIGHT[iy, ix, index]\n",
    "            if weight < minv:\n",
    "                minv = weight\n",
    "            if weight > maxv:\n",
    "                maxv = weight\n",
    "    \n",
    "    comp_color_array = np.zeros((sizeY, sizeX))\n",
    "    width = maxv - minv\n",
    "    \n",
    "    for ix in range(sizeX):\n",
    "        for iy in range(sizeY):\n",
    "            weight = WEIGHT[iy, ix, index]\n",
    "            comp_color_array[iy][ix] = (weight - minv) / width\n",
    "    \n",
    "    plt.axis(\"off\")\n",
    "    plt.imshow(comp_color_array, cmap=\"bwr\", interpolation='none')\n",
    "    plt.clim(0.0, 1.0)\n",
    "    plt.savefig(fname, bbox_inches='tight')\n",
    "    plt.close()\n",
    "\n",
    "def save_comp_image_from_index(index):\n",
    "    idx = int(index)\n",
    "    fname = os.path.join(comp_dir, NUC_LABELS[idx])\n",
    "    create_comp_image(idx, fname)\n",
    "\n",
    "def save_comp_image_from_string(string):\n",
    "    try:\n",
    "        index = NUC_LABELS.index(string)\n",
    "    except:\n",
    "        raise Exception(string + \" is not included in NUC_LABELS.\")\n",
    "    \n",
    "    save_comp_image_from_index(index)"
   ]
  },
  {
   "cell_type": "code",
   "execution_count": 24,
   "metadata": {},
   "outputs": [],
   "source": [
    "comp_dir = os.path.join(DIR_OUTPUT, 'comp')\n",
    "if not os.path.isdir(comp_dir):\n",
    "    os.mkdir(comp_dir)"
   ]
  },
  {
   "cell_type": "code",
   "execution_count": 25,
   "metadata": {
    "scrolled": false
   },
   "outputs": [
    {
     "name": "stdout",
     "output_type": "stream",
     "text": [
      "\n",
      "Saving images of all components : 0:00:03.969592\n",
      "\n"
     ]
    }
   ],
   "source": [
    "start = datetime.datetime.now()\n",
    "\n",
    "dims = WEIGHT.shape[2]\n",
    "\n",
    "try:\n",
    "    res = Parallel(n_jobs=-1)(\n",
    "        [delayed(save_comp_image_from_index)(index)\n",
    "         for index in range(dims)])\n",
    "except:\n",
    "    pass\n",
    "'''\n",
    "for index in range(dims):\n",
    "    idx = int(index)\n",
    "    save_comp_image_from_index(idx)\n",
    "'''\n",
    "\n",
    "print_console_and_logfile(\"\\nSaving images of all components : \" + str(datetime.datetime.now() - start) + \"\\n\")"
   ]
  },
  {
   "cell_type": "code",
   "execution_count": 26,
   "metadata": {},
   "outputs": [
    {
     "name": "stdout",
     "output_type": "stream",
     "text": [
      "\n",
      "Start   Time  : 2023-05-23 22:42:21.780295\n",
      "End     Time  : 2023-05-23 22:56:58.179380\n",
      "Elapsed Time  : 0:14:36.399085\n",
      "\n"
     ]
    }
   ],
   "source": [
    "end_time = datetime.datetime.now()\n",
    "print_console_and_logfile(\"\\nStart   Time  : \" + str(start_time))\n",
    "print_console_and_logfile(  \"End     Time  : \" + str(end_time))\n",
    "print_console_and_logfile(  \"Elapsed Time  : \" + str(end_time - start_time) + \"\\n\")"
   ]
  },
  {
   "cell_type": "code",
   "execution_count": 27,
   "metadata": {},
   "outputs": [],
   "source": [
    "LOGF.close()"
   ]
  }
 ],
 "metadata": {
  "kernelspec": {
   "display_name": "Python 3 (ipykernel)",
   "language": "python",
   "name": "python3"
  },
  "language_info": {
   "codemirror_mode": {
    "name": "ipython",
    "version": 3
   },
   "file_extension": ".py",
   "mimetype": "text/x-python",
   "name": "python",
   "nbconvert_exporter": "python",
   "pygments_lexer": "ipython3",
   "version": "3.10.9"
  }
 },
 "nbformat": 4,
 "nbformat_minor": 2
}
